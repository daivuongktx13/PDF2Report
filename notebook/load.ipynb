{
 "cells": [
  {
   "cell_type": "code",
   "execution_count": 1,
   "metadata": {},
   "outputs": [],
   "source": [
    "import pandas as pd"
   ]
  },
  {
   "cell_type": "code",
   "execution_count": 3,
   "metadata": {},
   "outputs": [],
   "source": [
    "data = pd.read_csv('../static/fpt/balance/image4.csv')"
   ]
  },
  {
   "cell_type": "code",
   "execution_count": 10,
   "metadata": {},
   "outputs": [],
   "source": [
    "serialized_data = data.drop(\"Unnamed: 0\", axis = 1).values"
   ]
  },
  {
   "cell_type": "code",
   "execution_count": 12,
   "metadata": {},
   "outputs": [
    {
     "data": {
      "text/plain": [
       "array([['A. TÀI SẢN NGẮN HẠN', '100', nan, '7.319.348.784.046',\n",
       "        '8.877.822.091.860'],\n",
       "       ['- Tiền và các khoản tương dương tiền', '110', 1.0,\n",
       "        '220.193.173.420', '1.602.587.113.047'],\n",
       "       ['1. Tiền', '111', nan, '118.193.173.420', '374.987.113.047'],\n",
       "       ['2. Các khoản tương đương tiền', '112', nan, '102.000.000.000',\n",
       "        '1.227.600.000.000'],\n",
       "       ['Các khoản đầu tư tài chính ngắn hạn', '120', 4.0,\n",
       "        '6.142.700.000.000', '5.313.061.859.331'],\n",
       "       ['1. Đầu tư nắm giữ đến ngày đáo hạn', '123', nan,\n",
       "        '6.142.700.000.000', '5.313.061.859.331'],\n",
       "       ['III. Các khoản phải thu ngắn hạn', '130', nan,\n",
       "        '876.063.130.634', '1.879.162.382.953'],\n",
       "       ['1. Phải thu ngắn hạn của khách hàng', '131', nan,\n",
       "        '106.129.533.532', '123.029.215.178'],\n",
       "       ['2. Trả trước cho người bán ngắn hạn', '132', nan,\n",
       "        '28.981.339.040', '1.954.028.351'],\n",
       "       ['3. Phải thu về cho vay ngắn hạn', '135', 2.0, '419.900.000.000',\n",
       "        '422.900.000.000'],\n",
       "       ['4. Phái thu ngắn hạn khác', '136', 3.0, '329.221.807.017',\n",
       "        '1.339.448.688.379'],\n",
       "       ['5. Dự phòng phải thu ngắn hạn khó đòi', '137', nan,\n",
       "        '(8.169.548.955)', '(8.169.548.955)'],\n",
       "       ['IV. Hàng tồn kho', '140', nan, '595.438.253', '355.438.253'],\n",
       "       ['1. Hàng tồn kho', '141', nan, '595.438.253', '355.438.253'],\n",
       "       ['V. Tài sản ngắn hạn khác', '150', nan, '79.797.041.739',\n",
       "        '82.655.298.276'],\n",
       "       ['1. Chi phí trả trước ngắn hạn', '151', nan, '4.323.661.147',\n",
       "        '2.355.887.790'],\n",
       "       ['2. Thuế giá trị gia tăng được khấu trừ', '152', nan,\n",
       "        '71.416.517.283', '76.242.547.177'],\n",
       "       ['3. Thuế và các khoản khác phải thu Nhà\\nnước', '153', 10.0,\n",
       "        '4.056.863.309', '4.056.863.309'],\n",
       "       ['B. TÀI SẢN DÀI HẠN', '200', nan, '13.675.520.937.921',\n",
       "        '11.586.716.188.494'],\n",
       "       ['11. Tài sản cố định', '220', nan, '1.951.537.008.093',\n",
       "        '1.980.893.006.685'],\n",
       "       ['1. Tài sản cố định hữu hình', '221', 5.0, '1.922.138.272.486',\n",
       "        '1.948.087.485.760'],\n",
       "       ['- Nguyên giá', '222', nan, '2.255.316.481.587',\n",
       "        '2.253.214.928.513'],\n",
       "       ['- Giá trị hao mòn lũy kế', '223', nan, '(333.178.209.101)',\n",
       "        '(305.127.412.783)'],\n",
       "       ['2. Tài sản cố định vô hình', '227', 6.0, '29.398.735.607',\n",
       "        '32.805.520.925'],\n",
       "       ['- Nguyên giá', '228', nan, '134.167.061.217', '132.216.392.831'],\n",
       "       ['- Giá trị hao mòn lũy kế', '229', nan, '(104.768.325.610)',\n",
       "        '(99.410.871.906)'],\n",
       "       ['HI. Tài sán dở dang dài hạn', '240', nan, '139.549.133.644',\n",
       "        '116.690.829.404'],\n",
       "       ['1. Chi phí xây dựng cơ bản dở dang', '242', nan,\n",
       "        '139.549.133.644', '116.690.829.404'],\n",
       "       ['IV. Các khoản đầu tư tài chính dài hạn', '250', nan,\n",
       "        '11.532.613.409.012', '9.432.613.409.012'],\n",
       "       ['1. Đầu tư vào công ty con', '251', 7.0, '11.039.613.409.012',\n",
       "        '8.939.613.409.012'],\n",
       "       ['2. Đầu tư vào công ty liên doanh, liên kết', '252', 8.0,\n",
       "        '492.500.000.000', '492.500.000.000'],\n",
       "       ['3. Đầu tư góp vốn vào đơn vị khác', '253', nan, '500.000.000',\n",
       "        '500.000.000'],\n",
       "       ['V. Tài sản dài hạn khác', '260', nan, '51.821.387.172',\n",
       "        '56.518.943.393'],\n",
       "       ['1. Chi phí trả trước dài hạn', '261', nan, '22.217.069.858',\n",
       "        '24.007.939.167'],\n",
       "       ['2. Tài sản thuế thu nhập hoãn lại', '262', nan,\n",
       "        '29.604.317.314', '32.511.004.226'],\n",
       "       ['TỔNG CỘNG TÀI SẢN (270 - 100 % 200)', '270', nan,\n",
       "        '20.994.869.721.967', '20.464.538.280.354']], dtype=object)"
      ]
     },
     "execution_count": 12,
     "metadata": {},
     "output_type": "execute_result"
    }
   ],
   "source": [
    "serialized_data[1:]"
   ]
  }
 ],
 "metadata": {
  "kernelspec": {
   "display_name": "aviet",
   "language": "python",
   "name": "python3"
  },
  "language_info": {
   "codemirror_mode": {
    "name": "ipython",
    "version": 3
   },
   "file_extension": ".py",
   "mimetype": "text/x-python",
   "name": "python",
   "nbconvert_exporter": "python",
   "pygments_lexer": "ipython3",
   "version": "3.9.5"
  },
  "orig_nbformat": 4
 },
 "nbformat": 4,
 "nbformat_minor": 2
}
